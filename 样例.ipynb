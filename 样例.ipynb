{
 "cells": [
  {
   "attachments": {},
   "cell_type": "markdown",
   "metadata": {},
   "source": [
    "# 数据导入"
   ]
  },
  {
   "cell_type": "code",
   "execution_count": 1,
   "metadata": {},
   "outputs": [],
   "source": [
    "import pandas as pd\n",
    "from sklearn import datasets\n",
    "from sklearn.tree import DecisionTreeClassifier\n",
    "from sklearn.ensemble import AdaBoostClassifier\n",
    "from sklearn.model_selection import train_test_split\n",
    "import numpy as np\n",
    "from sklearn.metrics import zero_one_loss\n",
    "import matplotlib.pyplot as plt\n",
    "import seaborn as sns\n",
    "from sklearn.datasets import make_gaussian_quantiles\n",
    "from sklearn.metrics import roc_auc_score\n",
    "from sklearn.ensemble import RandomForestClassifier\n",
    "from sklearn.preprocessing import OrdinalEncoder\n",
    "'''\n",
    "DATASET SOURCE is from httpsgithub.comarjbahnsl-kdd.git (include the most attack types)\n",
    "httpsgithub.comdefcom17NSL_KDD.git'''\n",
    "\n",
    "train_file = 'https://raw.githubusercontent.com/arjbah/nsl-kdd/master/nsl-kdd/KDDTrain%2B.txt'\n",
    "test_file = 'https://raw.githubusercontent.com/arjbah/nsl-kdd/master/nsl-kdd/KDDTest%2B.txt'\n",
    "field_name_file = 'https://raw.githubusercontent.com/defcom17/NSL_KDD/master/Field%20Names.csv'\n",
    "attack_type_file = 'https://raw.githubusercontent.com/arjbah/nsl-kdd/master/training_attack_types.txt'\n",
    "\n",
    "#read and add the colname of data\n",
    "filename=pd.read_csv(field_name_file,header=None,names=[\"name\",\"type\"])\n",
    "colname=filename[\"name\"].tolist()\n",
    "colname+=(\"label\",\"useless\")\n",
    "\n",
    "#read train and test data\n",
    "train=pd.read_csv(train_file,header=None,names=colname)\n",
    "test=pd.read_csv(test_file,header=None,names=colname)\n",
    "\n",
    "#最后一列没有用，删去\n",
    "\n",
    "train.drop(\"useless\",axis=1,inplace=True)\n",
    "test.drop(\"useless\",axis=1,inplace=True)\n",
    "\n",
    "\n",
    "#读入攻击类型\n",
    "attack_type=pd.read_csv(attack_type_file,sep=' ',header=None)#注意这里的sep！！！！\n",
    "\n",
    "#将数据的攻击类型进行分类\n",
    "def fiveclass(x):\n",
    "    if x=='normal': return 'normal'\n",
    "    return np.array(attack_type[attack_type[0]==x])[0,1]\n",
    "train[\"label\"]=train[\"label\"].map(fiveclass)\n",
    "test[\"label\"]=test[\"label\"].map(fiveclass)\n",
    "\n",
    "\n",
    "\n"
   ]
  },
  {
   "attachments": {},
   "cell_type": "markdown",
   "metadata": {},
   "source": [
    "# 简单查看数据"
   ]
  },
  {
   "cell_type": "code",
   "execution_count": 2,
   "metadata": {},
   "outputs": [
    {
     "name": "stdout",
     "output_type": "stream",
     "text": [
      "label\n",
      "dos       45927\n",
      "normal    67343\n",
      "probe     11656\n",
      "r2l         995\n",
      "u2r          52\n",
      "dtype: int64\n",
      "label\n",
      "dos       7636\n",
      "normal    9711\n",
      "probe     2421\n",
      "r2l       2576\n",
      "u2r        200\n",
      "dtype: int64\n",
      "label\n",
      "0    45927\n",
      "1    67343\n",
      "2    11656\n",
      "3      995\n",
      "4       52\n",
      "dtype: int64\n",
      "label\n",
      "0    7636\n",
      "1    9711\n",
      "2    2421\n",
      "3    2576\n",
      "4     200\n",
      "dtype: int64\n"
     ]
    },
    {
     "name": "stderr",
     "output_type": "stream",
     "text": [
      "C:\\Users\\MS\\AppData\\Local\\Temp\\ipykernel_20656\\1010330431.py:10: FutureWarning: In a future version, `df.iloc[:, i] = newvals` will attempt to set the values inplace instead of always setting a new array. To retain the old behavior, use either `df[df.columns[i]] = newvals` or, if columns are non-unique, `df.isetitem(i, newvals)`\n",
      "  train.iloc[:,1:4]=oe.fit_transform((train.iloc[:,1:4]))\n",
      "C:\\Users\\MS\\AppData\\Local\\Temp\\ipykernel_20656\\1010330431.py:11: FutureWarning: In a future version, `df.iloc[:, i] = newvals` will attempt to set the values inplace instead of always setting a new array. To retain the old behavior, use either `df[df.columns[i]] = newvals` or, if columns are non-unique, `df.isetitem(i, newvals)`\n",
      "  train.loc[:,'label']=le.fit_transform(train.loc[:,'label'])\n",
      "C:\\Users\\MS\\AppData\\Local\\Temp\\ipykernel_20656\\1010330431.py:13: FutureWarning: In a future version, `df.iloc[:, i] = newvals` will attempt to set the values inplace instead of always setting a new array. To retain the old behavior, use either `df[df.columns[i]] = newvals` or, if columns are non-unique, `df.isetitem(i, newvals)`\n",
      "  test.iloc[:,1:4]=oe.fit_transform(test.iloc[:,1:4])\n",
      "C:\\Users\\MS\\AppData\\Local\\Temp\\ipykernel_20656\\1010330431.py:14: FutureWarning: In a future version, `df.iloc[:, i] = newvals` will attempt to set the values inplace instead of always setting a new array. To retain the old behavior, use either `df[df.columns[i]] = newvals` or, if columns are non-unique, `df.isetitem(i, newvals)`\n",
      "  test.loc[:,'label']=le.fit_transform(test.loc[:,'label'])\n"
     ]
    }
   ],
   "source": [
    "print(train.groupby('label').size())\n",
    "print(test.groupby('label').size())\n",
    "\n",
    "\n",
    "from sklearn.preprocessing import OneHotEncoder\n",
    "from sklearn.preprocessing import LabelEncoder\n",
    "\n",
    "oe=OrdinalEncoder()\n",
    "le=LabelEncoder()\n",
    "train.iloc[:,1:4]=oe.fit_transform((train.iloc[:,1:4]))\n",
    "train.loc[:,'label']=le.fit_transform(train.loc[:,'label'])\n",
    "\n",
    "test.iloc[:,1:4]=oe.fit_transform(test.iloc[:,1:4])\n",
    "test.loc[:,'label']=le.fit_transform(test.loc[:,'label'])\n",
    "\n",
    "print(train.groupby('label').size())\n",
    "print(test.groupby('label').size())"
   ]
  },
  {
   "attachments": {},
   "cell_type": "markdown",
   "metadata": {},
   "source": [
    "划分训练集，测试集，xy"
   ]
  },
  {
   "cell_type": "code",
   "execution_count": 3,
   "metadata": {},
   "outputs": [],
   "source": [
    "x_train=train.drop('label',axis=1)\n",
    "x_test=test.drop('label',axis=1)\n",
    "xi=test[test['label']==4].drop('label',axis=1)\n",
    "\n",
    "\n",
    "y_train=train['label']\n",
    "y_test=test['label']\n",
    "yi=test[test['label']==4]['label']"
   ]
  },
  {
   "attachments": {},
   "cell_type": "markdown",
   "metadata": {},
   "source": [
    "# 尝试传统集成模型"
   ]
  },
  {
   "cell_type": "code",
   "execution_count": 4,
   "metadata": {},
   "outputs": [
    {
     "name": "stdout",
     "output_type": "stream",
     "text": [
      "0.7300390347764372\n",
      "0.7445440028388929\n",
      "0.742680979418027\n",
      "0.01\n",
      "0.01\n",
      "0.01\n"
     ]
    }
   ],
   "source": [
    "from sklearn.metrics import precision_score\n",
    "\n",
    "\n",
    "base=DecisionTreeClassifier(max_depth=10)\n",
    "mod1=AdaBoostClassifier(base,n_estimators=400,algorithm=\"SAMME\")\n",
    "mod2=AdaBoostClassifier(base,n_estimators=400,algorithm=\"SAMME.R\")\n",
    "mod3=RandomForestClassifier(n_estimators=70,max_features='sqrt')\n",
    "\n",
    "\n",
    "mod1.fit(x_train,y_train)\n",
    "mod2.fit(x_train,y_train)\n",
    "mod3.fit(x_train,y_train)\n",
    "y1=mod1.predict(x_test)\n",
    "y2=mod2.predict(x_test)\n",
    "y3=mod3.predict(x_test)\n",
    "print(precision_score(y1,y_test,average='micro'))\n",
    "print(precision_score(y2,y_test,average='micro'))\n",
    "print(precision_score(y3,y_test,average='micro'))\n",
    "\n",
    "y1=mod1.predict(xi)\n",
    "y2=mod2.predict(xi)\n",
    "y3=mod3.predict(xi)\n",
    "print(precision_score(y1,yi,average='micro'))\n",
    "print(precision_score(y2,yi,average='micro'))\n",
    "print(precision_score(y3,yi,average='micro'))"
   ]
  },
  {
   "cell_type": "code",
   "execution_count": 5,
   "metadata": {},
   "outputs": [],
   "source": [
    "from collections import Counter\n",
    "from sklearn.datasets import make_classification\n",
    "from sklearn.svm import LinearSVC\n",
    "\n",
    "from imblearn.combine import SMOTEENN, SMOTETomek\n",
    "from imblearn.over_sampling import SMOTE\n",
    "from imblearn.pipeline import make_pipeline"
   ]
  },
  {
   "attachments": {},
   "cell_type": "markdown",
   "metadata": {},
   "source": [
    "# 数据分析\n",
    "观察到，数据为典型的不平衡数据，所以使用过采样，欠采样和调整权重"
   ]
  },
  {
   "attachments": {},
   "cell_type": "markdown",
   "metadata": {},
   "source": [
    "随机欠采样"
   ]
  },
  {
   "cell_type": "code",
   "execution_count": 6,
   "metadata": {},
   "outputs": [
    {
     "name": "stdout",
     "output_type": "stream",
     "text": [
      "Resampled dataset shape Counter({1: 90, 0: 70, 2: 70, 3: 70, 4: 50})\n"
     ]
    }
   ],
   "source": [
    "\n",
    "from imblearn.under_sampling import RandomUnderSampler \n",
    "ru=RandomUnderSampler(sampling_strategy={0:70,1:90,2:70,3:70,4:50},random_state=42)\n",
    "x1,y1=ru.fit_resample(x_train,y_train)\n",
    "print('Resampled dataset shape %s' % Counter(y1))\n"
   ]
  },
  {
   "cell_type": "code",
   "execution_count": 7,
   "metadata": {},
   "outputs": [
    {
     "name": "stdout",
     "output_type": "stream",
     "text": [
      "0.7333215046132009\n",
      "0.7418825408090844\n",
      "0.747028034066714\n",
      "0.005\n",
      "0.015\n",
      "0.02\n"
     ]
    }
   ],
   "source": [
    "from sklearn.metrics import precision_score\n",
    "\n",
    "\n",
    "base=DecisionTreeClassifier(max_depth=10)\n",
    "mod1=AdaBoostClassifier(base,n_estimators=400,algorithm=\"SAMME\")\n",
    "mod2=AdaBoostClassifier(base,n_estimators=400,algorithm=\"SAMME.R\")\n",
    "mod3=RandomForestClassifier(n_estimators=70,max_features='sqrt')\n",
    "\n",
    "\n",
    "mod1.fit(x_train,y_train)\n",
    "mod2.fit(x_train,y_train)\n",
    "mod3.fit(x_train,y_train)\n",
    "y1=mod1.predict(x_test)\n",
    "y2=mod2.predict(x_test)\n",
    "y3=mod3.predict(x_test)\n",
    "print(precision_score(y1,y_test,average='micro'))\n",
    "print(precision_score(y2,y_test,average='micro'))\n",
    "print(precision_score(y3,y_test,average='micro'))\n",
    "\n",
    "y1=mod1.predict(xi)\n",
    "y2=mod2.predict(xi)\n",
    "y3=mod3.predict(xi)\n",
    "print(precision_score(y1,yi,average='micro'))\n",
    "print(precision_score(y2,yi,average='micro'))\n",
    "print(precision_score(y3,yi,average='micro'))"
   ]
  },
  {
   "attachments": {},
   "cell_type": "markdown",
   "metadata": {},
   "source": [
    "ClusterCentroids"
   ]
  },
  {
   "cell_type": "code",
   "execution_count": 8,
   "metadata": {},
   "outputs": [
    {
     "name": "stdout",
     "output_type": "stream",
     "text": [
      "Resampled dataset shape Counter({1: 80, 0: 70, 2: 70, 3: 60, 4: 50})\n"
     ]
    }
   ],
   "source": [
    "x_train=train.drop('label',axis=1)\n",
    "x_test=test.drop('label',axis=1)\n",
    "y_train=train['label']\n",
    "y_test=test['label']\n",
    "\n",
    "\n",
    "from imblearn.under_sampling import ClusterCentroids \n",
    "cc=ClusterCentroids(sampling_strategy={0:70,1:80,2:70,3:60,4:50},random_state=42)\n",
    "x1,y1=cc.fit_resample(x_train,y_train)\n",
    "print('Resampled dataset shape %s' % Counter(y1))"
   ]
  },
  {
   "cell_type": "code",
   "execution_count": null,
   "metadata": {},
   "outputs": [
    {
     "name": "stdout",
     "output_type": "stream",
     "text": [
      "0.7346965933286018\n",
      "0.7388662171753017\n",
      "0.7425922640170334\n",
      "0.005\n",
      "0.01\n",
      "0.015\n"
     ]
    }
   ],
   "source": [
    "from sklearn.metrics import precision_score\n",
    "\n",
    "\n",
    "base=DecisionTreeClassifier(max_depth=10)\n",
    "mod1=AdaBoostClassifier(base,n_estimators=400,algorithm=\"SAMME\")\n",
    "mod2=AdaBoostClassifier(base,n_estimators=400,algorithm=\"SAMME.R\")\n",
    "mod3=RandomForestClassifier(n_estimators=70,max_features='sqrt')\n",
    "\n",
    "\n",
    "mod1.fit(x_train,y_train)\n",
    "mod2.fit(x_train,y_train)\n",
    "mod3.fit(x_train,y_train)\n",
    "y1=mod1.predict(x_test)\n",
    "y2=mod2.predict(x_test)\n",
    "y3=mod3.predict(x_test)\n",
    "print(precision_score(y1,y_test,average='micro'))\n",
    "print(precision_score(y2,y_test,average='micro'))\n",
    "print(precision_score(y3,y_test,average='micro'))\n",
    "\n",
    "y1=mod1.predict(xi)\n",
    "y2=mod2.predict(xi)\n",
    "y3=mod3.predict(xi)\n",
    "print(precision_score(y1,yi,average='micro'))\n",
    "print(precision_score(y2,yi,average='micro'))\n",
    "print(precision_score(y3,yi,average='micro'))"
   ]
  },
  {
   "attachments": {},
   "cell_type": "markdown",
   "metadata": {},
   "source": [
    "TomekLinks"
   ]
  },
  {
   "cell_type": "code",
   "execution_count": 9,
   "metadata": {},
   "outputs": [
    {
     "name": "stdout",
     "output_type": "stream",
     "text": [
      "Resampled dataset shape Counter({1: 67299, 0: 45904, 2: 11626, 3: 981, 4: 52})\n"
     ]
    }
   ],
   "source": [
    "from imblearn.under_sampling import TomekLinks\n",
    "tl=TomekLinks()\n",
    "x1,y1=tl.fit_resample(x_train,y_train)\n",
    "print('Resampled dataset shape %s' % Counter(y1))"
   ]
  },
  {
   "cell_type": "code",
   "execution_count": null,
   "metadata": {},
   "outputs": [
    {
     "name": "stdout",
     "output_type": "stream",
     "text": [
      "0.7292405961674947\n",
      "0.7382452093683464\n",
      "0.7495120652945352\n"
     ]
    }
   ],
   "source": [
    "from sklearn.metrics import precision_score\n",
    "\n",
    "\n",
    "base=DecisionTreeClassifier(max_depth=10)\n",
    "mod1=AdaBoostClassifier(base,n_estimators=400,algorithm=\"SAMME\")\n",
    "mod2=AdaBoostClassifier(base,n_estimators=400,algorithm=\"SAMME.R\")\n",
    "mod3=RandomForestClassifier(n_estimators=70,max_features='sqrt')\n",
    "\n",
    "\n",
    "mod1.fit(x_train,y_train)\n",
    "mod2.fit(x_train,y_train)\n",
    "mod3.fit(x_train,y_train)\n",
    "y1=mod1.predict(x_test)\n",
    "y2=mod2.predict(x_test)\n",
    "y3=mod3.predict(x_test)\n",
    "print(precision_score(y1,y_test,average='micro'))\n",
    "print(precision_score(y2,y_test,average='micro'))\n",
    "print(precision_score(y3,y_test,average='micro'))\n",
    "\n",
    "y1=mod1.predict(xi)\n",
    "y2=mod2.predict(xi)\n",
    "y3=mod3.predict(xi)\n",
    "print(precision_score(y1,yi,average='micro'))\n",
    "print(precision_score(y2,yi,average='micro'))\n",
    "print(precision_score(y3,yi,average='micro'))"
   ]
  },
  {
   "attachments": {},
   "cell_type": "markdown",
   "metadata": {},
   "source": [
    " 过采样和欠采样组合方法 SMOTETomek (SMOTE + Tomeklinks) 和 SMOTEENN (SMOTE + Edited Nearest Neighbours)。其中，SMOTEENN 比 SMOTETomek 更容易清除噪声样本"
   ]
  },
  {
   "cell_type": "code",
   "execution_count": 10,
   "metadata": {},
   "outputs": [],
   "source": [
    "from imblearn.combine import SMOTETomek, SMOTEENN\n",
    "\n",
    "# 实例化类对象\n",
    "smote_enn = SMOTEENN(random_state=0)\n",
    "# 生成新数据集\n",
    "x1, y1 = smote_enn.fit_resample(x_train, y_train)"
   ]
  },
  {
   "cell_type": "code",
   "execution_count": null,
   "metadata": {},
   "outputs": [
    {
     "name": "stdout",
     "output_type": "stream",
     "text": [
      "Resampled dataset shape Counter({4: 67177, 0: 67080, 3: 67013, 2: 67012, 1: 66333})\n"
     ]
    }
   ],
   "source": [
    "print('Resampled dataset shape %s' % Counter(y1))"
   ]
  },
  {
   "cell_type": "code",
   "execution_count": null,
   "metadata": {},
   "outputs": [],
   "source": [
    "base=DecisionTreeClassifier(max_depth=10,min_samples_leaf=5)\n",
    "mod1=AdaBoostClassifier(base,n_estimators=400,algorithm=\"SAMME\")\n",
    "mod2=AdaBoostClassifier(base,n_estimators=400,algorithm=\"SAMME.R\")\n",
    "mod3=RandomForestClassifier(n_estimators=70,max_features='sqrt',min_samples_leaf=5)\n",
    "\n",
    "\n",
    "mod1.fit(x1,y1)\n",
    "mod2.fit(x1,y1)\n",
    "mod3.fit(x1,y1)\n",
    "y1=mod1.predict(x_test)\n",
    "y2=mod2.predict(x_test)\n",
    "y3=mod3.predict(x_test)\n",
    "print(precision_score(y1,y_test,average='micro'))\n",
    "print(precision_score(y2,y_test,average='micro'))\n",
    "print(precision_score(y3,y_test,average='micro'))"
   ]
  },
  {
   "cell_type": "code",
   "execution_count": 58,
   "metadata": {},
   "outputs": [
    {
     "ename": "KeyboardInterrupt",
     "evalue": "",
     "output_type": "error",
     "traceback": [
      "\u001b[1;31m---------------------------------------------------------------------------\u001b[0m",
      "\u001b[1;31mKeyboardInterrupt\u001b[0m                         Traceback (most recent call last)",
      "\u001b[1;32md:\\cschw\\机器学习\\数据不均衡处理\\样例.ipynb 单元格 25\u001b[0m in \u001b[0;36m6\n\u001b[0;32m      <a href='vscode-notebook-cell:/d%3A/cschw/%E6%9C%BA%E5%99%A8%E5%AD%A6%E4%B9%A0/%E6%95%B0%E6%8D%AE%E4%B8%8D%E5%9D%87%E8%A1%A1%E5%A4%84%E7%90%86/%E6%A0%B7%E4%BE%8B.ipynb#X45sZmlsZQ%3D%3D?line=3'>4</a>\u001b[0m smote_enn \u001b[39m=\u001b[39m SMOTEENN(random_state\u001b[39m=\u001b[39m\u001b[39m0\u001b[39m)\n\u001b[0;32m      <a href='vscode-notebook-cell:/d%3A/cschw/%E6%9C%BA%E5%99%A8%E5%AD%A6%E4%B9%A0/%E6%95%B0%E6%8D%AE%E4%B8%8D%E5%9D%87%E8%A1%A1%E5%A4%84%E7%90%86/%E6%A0%B7%E4%BE%8B.ipynb#X45sZmlsZQ%3D%3D?line=4'>5</a>\u001b[0m smote_tomek \u001b[39m=\u001b[39m SMOTETomek(random_state\u001b[39m=\u001b[39m\u001b[39m0\u001b[39m)\n\u001b[1;32m----> <a href='vscode-notebook-cell:/d%3A/cschw/%E6%9C%BA%E5%99%A8%E5%AD%A6%E4%B9%A0/%E6%95%B0%E6%8D%AE%E4%B8%8D%E5%9D%87%E8%A1%A1%E5%A4%84%E7%90%86/%E6%A0%B7%E4%BE%8B.ipynb#X45sZmlsZQ%3D%3D?line=5'>6</a>\u001b[0m x1, y1 \u001b[39m=\u001b[39m smote_tomek\u001b[39m.\u001b[39;49mfit_resample(x_train, y_train)\n",
      "File \u001b[1;32m~\\AppData\\Local\\Packages\\PythonSoftwareFoundation.Python.3.10_qbz5n2kfra8p0\\LocalCache\\local-packages\\Python310\\site-packages\\imblearn\\base.py:203\u001b[0m, in \u001b[0;36mBaseSampler.fit_resample\u001b[1;34m(self, X, y)\u001b[0m\n\u001b[0;32m    182\u001b[0m \u001b[39m\"\"\"Resample the dataset.\u001b[39;00m\n\u001b[0;32m    183\u001b[0m \n\u001b[0;32m    184\u001b[0m \u001b[39mParameters\u001b[39;00m\n\u001b[1;32m   (...)\u001b[0m\n\u001b[0;32m    200\u001b[0m \u001b[39m    The corresponding label of `X_resampled`.\u001b[39;00m\n\u001b[0;32m    201\u001b[0m \u001b[39m\"\"\"\u001b[39;00m\n\u001b[0;32m    202\u001b[0m \u001b[39mself\u001b[39m\u001b[39m.\u001b[39m_validate_params()\n\u001b[1;32m--> 203\u001b[0m \u001b[39mreturn\u001b[39;00m \u001b[39msuper\u001b[39;49m()\u001b[39m.\u001b[39;49mfit_resample(X, y)\n",
      "File \u001b[1;32m~\\AppData\\Local\\Packages\\PythonSoftwareFoundation.Python.3.10_qbz5n2kfra8p0\\LocalCache\\local-packages\\Python310\\site-packages\\imblearn\\base.py:88\u001b[0m, in \u001b[0;36mSamplerMixin.fit_resample\u001b[1;34m(self, X, y)\u001b[0m\n\u001b[0;32m     82\u001b[0m X, y, binarize_y \u001b[39m=\u001b[39m \u001b[39mself\u001b[39m\u001b[39m.\u001b[39m_check_X_y(X, y)\n\u001b[0;32m     84\u001b[0m \u001b[39mself\u001b[39m\u001b[39m.\u001b[39msampling_strategy_ \u001b[39m=\u001b[39m check_sampling_strategy(\n\u001b[0;32m     85\u001b[0m     \u001b[39mself\u001b[39m\u001b[39m.\u001b[39msampling_strategy, y, \u001b[39mself\u001b[39m\u001b[39m.\u001b[39m_sampling_type\n\u001b[0;32m     86\u001b[0m )\n\u001b[1;32m---> 88\u001b[0m output \u001b[39m=\u001b[39m \u001b[39mself\u001b[39;49m\u001b[39m.\u001b[39;49m_fit_resample(X, y)\n\u001b[0;32m     90\u001b[0m y_ \u001b[39m=\u001b[39m (\n\u001b[0;32m     91\u001b[0m     label_binarize(output[\u001b[39m1\u001b[39m], classes\u001b[39m=\u001b[39mnp\u001b[39m.\u001b[39munique(y)) \u001b[39mif\u001b[39;00m binarize_y \u001b[39melse\u001b[39;00m output[\u001b[39m1\u001b[39m]\n\u001b[0;32m     92\u001b[0m )\n\u001b[0;32m     94\u001b[0m X_, y_ \u001b[39m=\u001b[39m arrays_transformer\u001b[39m.\u001b[39mtransform(output[\u001b[39m0\u001b[39m], y_)\n",
      "File \u001b[1;32m~\\AppData\\Local\\Packages\\PythonSoftwareFoundation.Python.3.10_qbz5n2kfra8p0\\LocalCache\\local-packages\\Python310\\site-packages\\imblearn\\combine\\_smote_tomek.py:158\u001b[0m, in \u001b[0;36mSMOTETomek._fit_resample\u001b[1;34m(self, X, y)\u001b[0m\n\u001b[0;32m    155\u001b[0m \u001b[39mself\u001b[39m\u001b[39m.\u001b[39msampling_strategy_ \u001b[39m=\u001b[39m \u001b[39mself\u001b[39m\u001b[39m.\u001b[39msampling_strategy\n\u001b[0;32m    157\u001b[0m X_res, y_res \u001b[39m=\u001b[39m \u001b[39mself\u001b[39m\u001b[39m.\u001b[39msmote_\u001b[39m.\u001b[39mfit_resample(X, y)\n\u001b[1;32m--> 158\u001b[0m \u001b[39mreturn\u001b[39;00m \u001b[39mself\u001b[39;49m\u001b[39m.\u001b[39;49mtomek_\u001b[39m.\u001b[39;49mfit_resample(X_res, y_res)\n",
      "File \u001b[1;32m~\\AppData\\Local\\Packages\\PythonSoftwareFoundation.Python.3.10_qbz5n2kfra8p0\\LocalCache\\local-packages\\Python310\\site-packages\\imblearn\\base.py:203\u001b[0m, in \u001b[0;36mBaseSampler.fit_resample\u001b[1;34m(self, X, y)\u001b[0m\n\u001b[0;32m    182\u001b[0m \u001b[39m\"\"\"Resample the dataset.\u001b[39;00m\n\u001b[0;32m    183\u001b[0m \n\u001b[0;32m    184\u001b[0m \u001b[39mParameters\u001b[39;00m\n\u001b[1;32m   (...)\u001b[0m\n\u001b[0;32m    200\u001b[0m \u001b[39m    The corresponding label of `X_resampled`.\u001b[39;00m\n\u001b[0;32m    201\u001b[0m \u001b[39m\"\"\"\u001b[39;00m\n\u001b[0;32m    202\u001b[0m \u001b[39mself\u001b[39m\u001b[39m.\u001b[39m_validate_params()\n\u001b[1;32m--> 203\u001b[0m \u001b[39mreturn\u001b[39;00m \u001b[39msuper\u001b[39;49m()\u001b[39m.\u001b[39;49mfit_resample(X, y)\n",
      "File \u001b[1;32m~\\AppData\\Local\\Packages\\PythonSoftwareFoundation.Python.3.10_qbz5n2kfra8p0\\LocalCache\\local-packages\\Python310\\site-packages\\imblearn\\base.py:88\u001b[0m, in \u001b[0;36mSamplerMixin.fit_resample\u001b[1;34m(self, X, y)\u001b[0m\n\u001b[0;32m     82\u001b[0m X, y, binarize_y \u001b[39m=\u001b[39m \u001b[39mself\u001b[39m\u001b[39m.\u001b[39m_check_X_y(X, y)\n\u001b[0;32m     84\u001b[0m \u001b[39mself\u001b[39m\u001b[39m.\u001b[39msampling_strategy_ \u001b[39m=\u001b[39m check_sampling_strategy(\n\u001b[0;32m     85\u001b[0m     \u001b[39mself\u001b[39m\u001b[39m.\u001b[39msampling_strategy, y, \u001b[39mself\u001b[39m\u001b[39m.\u001b[39m_sampling_type\n\u001b[0;32m     86\u001b[0m )\n\u001b[1;32m---> 88\u001b[0m output \u001b[39m=\u001b[39m \u001b[39mself\u001b[39;49m\u001b[39m.\u001b[39;49m_fit_resample(X, y)\n\u001b[0;32m     90\u001b[0m y_ \u001b[39m=\u001b[39m (\n\u001b[0;32m     91\u001b[0m     label_binarize(output[\u001b[39m1\u001b[39m], classes\u001b[39m=\u001b[39mnp\u001b[39m.\u001b[39munique(y)) \u001b[39mif\u001b[39;00m binarize_y \u001b[39melse\u001b[39;00m output[\u001b[39m1\u001b[39m]\n\u001b[0;32m     92\u001b[0m )\n\u001b[0;32m     94\u001b[0m X_, y_ \u001b[39m=\u001b[39m arrays_transformer\u001b[39m.\u001b[39mtransform(output[\u001b[39m0\u001b[39m], y_)\n",
      "File \u001b[1;32m~\\AppData\\Local\\Packages\\PythonSoftwareFoundation.Python.3.10_qbz5n2kfra8p0\\LocalCache\\local-packages\\Python310\\site-packages\\imblearn\\under_sampling\\_prototype_selection\\_tomek_links.py:149\u001b[0m, in \u001b[0;36mTomekLinks._fit_resample\u001b[1;34m(self, X, y)\u001b[0m\n\u001b[0;32m    147\u001b[0m nn \u001b[39m=\u001b[39m NearestNeighbors(n_neighbors\u001b[39m=\u001b[39m\u001b[39m2\u001b[39m, n_jobs\u001b[39m=\u001b[39m\u001b[39mself\u001b[39m\u001b[39m.\u001b[39mn_jobs)\n\u001b[0;32m    148\u001b[0m nn\u001b[39m.\u001b[39mfit(X)\n\u001b[1;32m--> 149\u001b[0m nns \u001b[39m=\u001b[39m nn\u001b[39m.\u001b[39;49mkneighbors(X, return_distance\u001b[39m=\u001b[39;49m\u001b[39mFalse\u001b[39;49;00m)[:, \u001b[39m1\u001b[39m]\n\u001b[0;32m    151\u001b[0m links \u001b[39m=\u001b[39m \u001b[39mself\u001b[39m\u001b[39m.\u001b[39mis_tomek(y, nns, \u001b[39mself\u001b[39m\u001b[39m.\u001b[39msampling_strategy_)\n\u001b[0;32m    152\u001b[0m \u001b[39mself\u001b[39m\u001b[39m.\u001b[39msample_indices_ \u001b[39m=\u001b[39m np\u001b[39m.\u001b[39mflatnonzero(np\u001b[39m.\u001b[39mlogical_not(links))\n",
      "File \u001b[1;32m~\\AppData\\Local\\Packages\\PythonSoftwareFoundation.Python.3.10_qbz5n2kfra8p0\\LocalCache\\local-packages\\Python310\\site-packages\\sklearn\\neighbors\\_base.py:763\u001b[0m, in \u001b[0;36mKNeighborsMixin.kneighbors\u001b[1;34m(self, X, n_neighbors, return_distance)\u001b[0m\n\u001b[0;32m    756\u001b[0m use_pairwise_distances_reductions \u001b[39m=\u001b[39m (\n\u001b[0;32m    757\u001b[0m     \u001b[39mself\u001b[39m\u001b[39m.\u001b[39m_fit_method \u001b[39m==\u001b[39m \u001b[39m\"\u001b[39m\u001b[39mbrute\u001b[39m\u001b[39m\"\u001b[39m\n\u001b[0;32m    758\u001b[0m     \u001b[39mand\u001b[39;00m PairwiseDistancesArgKmin\u001b[39m.\u001b[39mis_usable_for(\n\u001b[0;32m    759\u001b[0m         X \u001b[39mif\u001b[39;00m X \u001b[39mis\u001b[39;00m \u001b[39mnot\u001b[39;00m \u001b[39mNone\u001b[39;00m \u001b[39melse\u001b[39;00m \u001b[39mself\u001b[39m\u001b[39m.\u001b[39m_fit_X, \u001b[39mself\u001b[39m\u001b[39m.\u001b[39m_fit_X, \u001b[39mself\u001b[39m\u001b[39m.\u001b[39meffective_metric_\n\u001b[0;32m    760\u001b[0m     )\n\u001b[0;32m    761\u001b[0m )\n\u001b[0;32m    762\u001b[0m \u001b[39mif\u001b[39;00m use_pairwise_distances_reductions:\n\u001b[1;32m--> 763\u001b[0m     results \u001b[39m=\u001b[39m PairwiseDistancesArgKmin\u001b[39m.\u001b[39;49mcompute(\n\u001b[0;32m    764\u001b[0m         X\u001b[39m=\u001b[39;49mX,\n\u001b[0;32m    765\u001b[0m         Y\u001b[39m=\u001b[39;49m\u001b[39mself\u001b[39;49m\u001b[39m.\u001b[39;49m_fit_X,\n\u001b[0;32m    766\u001b[0m         k\u001b[39m=\u001b[39;49mn_neighbors,\n\u001b[0;32m    767\u001b[0m         metric\u001b[39m=\u001b[39;49m\u001b[39mself\u001b[39;49m\u001b[39m.\u001b[39;49meffective_metric_,\n\u001b[0;32m    768\u001b[0m         metric_kwargs\u001b[39m=\u001b[39;49m\u001b[39mself\u001b[39;49m\u001b[39m.\u001b[39;49meffective_metric_params_,\n\u001b[0;32m    769\u001b[0m         strategy\u001b[39m=\u001b[39;49m\u001b[39m\"\u001b[39;49m\u001b[39mauto\u001b[39;49m\u001b[39m\"\u001b[39;49m,\n\u001b[0;32m    770\u001b[0m         return_distance\u001b[39m=\u001b[39;49mreturn_distance,\n\u001b[0;32m    771\u001b[0m     )\n\u001b[0;32m    773\u001b[0m \u001b[39melif\u001b[39;00m (\n\u001b[0;32m    774\u001b[0m     \u001b[39mself\u001b[39m\u001b[39m.\u001b[39m_fit_method \u001b[39m==\u001b[39m \u001b[39m\"\u001b[39m\u001b[39mbrute\u001b[39m\u001b[39m\"\u001b[39m \u001b[39mand\u001b[39;00m \u001b[39mself\u001b[39m\u001b[39m.\u001b[39mmetric \u001b[39m==\u001b[39m \u001b[39m\"\u001b[39m\u001b[39mprecomputed\u001b[39m\u001b[39m\"\u001b[39m \u001b[39mand\u001b[39;00m issparse(X)\n\u001b[0;32m    775\u001b[0m ):\n\u001b[0;32m    776\u001b[0m     results \u001b[39m=\u001b[39m _kneighbors_from_graph(\n\u001b[0;32m    777\u001b[0m         X, n_neighbors\u001b[39m=\u001b[39mn_neighbors, return_distance\u001b[39m=\u001b[39mreturn_distance\n\u001b[0;32m    778\u001b[0m     )\n",
      "File \u001b[1;32msklearn\\metrics\\_pairwise_distances_reduction.pyx:698\u001b[0m, in \u001b[0;36msklearn.metrics._pairwise_distances_reduction.PairwiseDistancesArgKmin.compute\u001b[1;34m()\u001b[0m\n",
      "File \u001b[1;32m~\\AppData\\Local\\Packages\\PythonSoftwareFoundation.Python.3.10_qbz5n2kfra8p0\\LocalCache\\local-packages\\Python310\\site-packages\\threadpoolctl.py:171\u001b[0m, in \u001b[0;36m_ThreadpoolLimiter.__exit__\u001b[1;34m(self, type, value, traceback)\u001b[0m\n\u001b[0;32m    168\u001b[0m \u001b[39mdef\u001b[39;00m \u001b[39m__enter__\u001b[39m(\u001b[39mself\u001b[39m):\n\u001b[0;32m    169\u001b[0m     \u001b[39mreturn\u001b[39;00m \u001b[39mself\u001b[39m\n\u001b[1;32m--> 171\u001b[0m \u001b[39mdef\u001b[39;00m \u001b[39m__exit__\u001b[39m(\u001b[39mself\u001b[39m, \u001b[39mtype\u001b[39m, value, traceback):\n\u001b[0;32m    172\u001b[0m     \u001b[39mself\u001b[39m\u001b[39m.\u001b[39mrestore_original_limits()\n\u001b[0;32m    174\u001b[0m \u001b[39m@classmethod\u001b[39m\n\u001b[0;32m    175\u001b[0m \u001b[39mdef\u001b[39;00m \u001b[39mwrap\u001b[39m(\u001b[39mcls\u001b[39m, controller, \u001b[39m*\u001b[39m, limits\u001b[39m=\u001b[39m\u001b[39mNone\u001b[39;00m, user_api\u001b[39m=\u001b[39m\u001b[39mNone\u001b[39;00m):\n",
      "\u001b[1;31mKeyboardInterrupt\u001b[0m: "
     ]
    }
   ],
   "source": [
    "from imblearn.combine import SMOTETomek, SMOTEENN\n",
    "\n",
    "# 实例化类对象\n",
    "smote_enn = SMOTEENN(random_state=0)\n",
    "smote_tomek = SMOTETomek(random_state=0)\n",
    "x1, y1 = smote_tomek.fit_resample(x_train, y_train)\n",
    "print('Resampled dataset shape %s' % Counter(y1))"
   ]
  },
  {
   "cell_type": "code",
   "execution_count": null,
   "metadata": {},
   "outputs": [],
   "source": [
    "base=DecisionTreeClassifier(max_depth=10,min_samples_leaf=5)\n",
    "mod1=AdaBoostClassifier(base,n_estimators=400,algorithm=\"SAMME\")\n",
    "mod2=AdaBoostClassifier(base,n_estimators=400,algorithm=\"SAMME.R\")\n",
    "mod3=RandomForestClassifier(n_estimators=70,max_features='sqrt',min_samples_leaf=5)\n",
    "\n",
    "\n",
    "mod1.fit(x1,y1)\n",
    "mod2.fit(x1,y1)\n",
    "mod3.fit(x1,y1)\n",
    "y1=mod1.predict(x_test)\n",
    "y2=mod2.predict(x_test)\n",
    "y3=mod3.predict(x_test)\n",
    "print(precision_score(y1,y_test,average='micro'))\n",
    "print(precision_score(y2,y_test,average='micro'))\n",
    "print(precision_score(y3,y_test,average='micro'))"
   ]
  },
  {
   "cell_type": "code",
   "execution_count": null,
   "metadata": {},
   "outputs": [],
   "source": []
  },
  {
   "attachments": {},
   "cell_type": "markdown",
   "metadata": {},
   "source": [
    "smote算法"
   ]
  },
  {
   "cell_type": "code",
   "execution_count": 145,
   "metadata": {},
   "outputs": [],
   "source": [
    "def plot_decision_function(X, y, clf, ax):\n",
    "    \"\"\"Plot the decision function of the classifier and the original data\"\"\"\n",
    "    plot_step = 0.02\n",
    "    x_min, x_max = X[:, 0].min() - 1, X[:, 0].max() + 1\n",
    "    y_min, y_max = X[:, 1].min() - 1, X[:, 1].max() + 1\n",
    "    xx, yy = np.meshgrid(\n",
    "        np.arange(x_min, x_max, plot_step), np.arange(y_min, y_max, plot_step)\n",
    "    )\n",
    "\n",
    "    Z = clf.predict(np.c_[xx.ravel(), yy.ravel()])\n",
    "    Z = Z.reshape(xx.shape)\n",
    "    ax.contourf(xx, yy, Z, alpha=0.4)\n",
    "    ax.scatter(X[:, 0], X[:, 1], alpha=0.8, c=y, edgecolor=\"k\")\n",
    "    ax.set_title(f\"Resampling using {clf[0].__class__.__name__}\")"
   ]
  },
  {
   "cell_type": "code",
   "execution_count": 146,
   "metadata": {},
   "outputs": [],
   "source": [
    "def plot_resampling(X, y, sampler, ax):\n",
    "    \"\"\"Plot the resampled dataset using the sampler.\"\"\"\n",
    "    X_res, y_res = sampler.fit_resample(X, y)\n",
    "    ax.scatter(X_res[:, 0], X_res[:, 1], c=y_res, alpha=0.8, edgecolor=\"k\")\n",
    "    sns.despine(ax=ax, offset=10)\n",
    "    ax.set_title(f\"Decision function for {sampler.__class__.__name__}\")\n",
    "    return Counter(y_res)"
   ]
  },
  {
   "cell_type": "code",
   "execution_count": 147,
   "metadata": {},
   "outputs": [
    {
     "name": "stderr",
     "output_type": "stream",
     "text": [
      "C:\\Users\\MS\\AppData\\Local\\Packages\\PythonSoftwareFoundation.Python.3.10_qbz5n2kfra8p0\\LocalCache\\local-packages\\Python310\\site-packages\\sklearn\\svm\\_base.py:1225: ConvergenceWarning: Liblinear failed to converge, increase the number of iterations.\n",
      "  warnings.warn(\n"
     ]
    },
    {
     "ename": "InvalidIndexError",
     "evalue": "(slice(None, None, None), 0)",
     "output_type": "error",
     "traceback": [
      "\u001b[1;31m---------------------------------------------------------------------------\u001b[0m",
      "\u001b[1;31mTypeError\u001b[0m                                 Traceback (most recent call last)",
      "File \u001b[1;32m~\\AppData\\Local\\Packages\\PythonSoftwareFoundation.Python.3.10_qbz5n2kfra8p0\\LocalCache\\local-packages\\Python310\\site-packages\\pandas\\core\\indexes\\base.py:3800\u001b[0m, in \u001b[0;36mIndex.get_loc\u001b[1;34m(self, key, method, tolerance)\u001b[0m\n\u001b[0;32m   3799\u001b[0m \u001b[39mtry\u001b[39;00m:\n\u001b[1;32m-> 3800\u001b[0m     \u001b[39mreturn\u001b[39;00m \u001b[39mself\u001b[39;49m\u001b[39m.\u001b[39;49m_engine\u001b[39m.\u001b[39;49mget_loc(casted_key)\n\u001b[0;32m   3801\u001b[0m \u001b[39mexcept\u001b[39;00m \u001b[39mKeyError\u001b[39;00m \u001b[39mas\u001b[39;00m err:\n",
      "File \u001b[1;32m~\\AppData\\Local\\Packages\\PythonSoftwareFoundation.Python.3.10_qbz5n2kfra8p0\\LocalCache\\local-packages\\Python310\\site-packages\\pandas\\_libs\\index.pyx:138\u001b[0m, in \u001b[0;36mpandas._libs.index.IndexEngine.get_loc\u001b[1;34m()\u001b[0m\n",
      "File \u001b[1;32m~\\AppData\\Local\\Packages\\PythonSoftwareFoundation.Python.3.10_qbz5n2kfra8p0\\LocalCache\\local-packages\\Python310\\site-packages\\pandas\\_libs\\index.pyx:144\u001b[0m, in \u001b[0;36mpandas._libs.index.IndexEngine.get_loc\u001b[1;34m()\u001b[0m\n",
      "\u001b[1;31mTypeError\u001b[0m: '(slice(None, None, None), 0)' is an invalid key",
      "\nDuring handling of the above exception, another exception occurred:\n",
      "\u001b[1;31mInvalidIndexError\u001b[0m                         Traceback (most recent call last)",
      "\u001b[1;32md:\\cschw\\机器学习\\数据不均衡处理\\样例.ipynb 单元格 12\u001b[0m in \u001b[0;36m6\n\u001b[0;32m      <a href='vscode-notebook-cell:/d%3A/cschw/%E6%9C%BA%E5%99%A8%E5%AD%A6%E4%B9%A0/%E6%95%B0%E6%8D%AE%E4%B8%8D%E5%9D%87%E8%A1%A1%E5%A4%84%E7%90%86/%E6%A0%B7%E4%BE%8B.ipynb#X16sZmlsZQ%3D%3D?line=3'>4</a>\u001b[0m \u001b[39mfor\u001b[39;00m ax, sampler \u001b[39min\u001b[39;00m \u001b[39mzip\u001b[39m(axs, samplers):\n\u001b[0;32m      <a href='vscode-notebook-cell:/d%3A/cschw/%E6%9C%BA%E5%99%A8%E5%AD%A6%E4%B9%A0/%E6%95%B0%E6%8D%AE%E4%B8%8D%E5%9D%87%E8%A1%A1%E5%A4%84%E7%90%86/%E6%A0%B7%E4%BE%8B.ipynb#X16sZmlsZQ%3D%3D?line=4'>5</a>\u001b[0m     clf \u001b[39m=\u001b[39m make_pipeline(sampler, LinearSVC())\u001b[39m.\u001b[39mfit(x_train, y_train)\n\u001b[1;32m----> <a href='vscode-notebook-cell:/d%3A/cschw/%E6%9C%BA%E5%99%A8%E5%AD%A6%E4%B9%A0/%E6%95%B0%E6%8D%AE%E4%B8%8D%E5%9D%87%E8%A1%A1%E5%A4%84%E7%90%86/%E6%A0%B7%E4%BE%8B.ipynb#X16sZmlsZQ%3D%3D?line=5'>6</a>\u001b[0m     plot_decision_function(x_train, y_train, clf, ax[\u001b[39m0\u001b[39;49m])\n\u001b[0;32m      <a href='vscode-notebook-cell:/d%3A/cschw/%E6%9C%BA%E5%99%A8%E5%AD%A6%E4%B9%A0/%E6%95%B0%E6%8D%AE%E4%B8%8D%E5%9D%87%E8%A1%A1%E5%A4%84%E7%90%86/%E6%A0%B7%E4%BE%8B.ipynb#X16sZmlsZQ%3D%3D?line=6'>7</a>\u001b[0m     plot_resampling(x_train, y_train, sampler, ax[\u001b[39m1\u001b[39m])\n\u001b[0;32m     <a href='vscode-notebook-cell:/d%3A/cschw/%E6%9C%BA%E5%99%A8%E5%AD%A6%E4%B9%A0/%E6%95%B0%E6%8D%AE%E4%B8%8D%E5%9D%87%E8%A1%A1%E5%A4%84%E7%90%86/%E6%A0%B7%E4%BE%8B.ipynb#X16sZmlsZQ%3D%3D?line=9'>10</a>\u001b[0m sm \u001b[39m=\u001b[39m SMOTE(random_state\u001b[39m=\u001b[39m\u001b[39m42\u001b[39m,k_neighbors\u001b[39m=\u001b[39m\u001b[39m5\u001b[39m)\u001b[39m#random为随机种子，k——neighbors为找k个最近的同类\u001b[39;00m\n",
      "\u001b[1;32md:\\cschw\\机器学习\\数据不均衡处理\\样例.ipynb 单元格 12\u001b[0m in \u001b[0;36m4\n\u001b[0;32m      <a href='vscode-notebook-cell:/d%3A/cschw/%E6%9C%BA%E5%99%A8%E5%AD%A6%E4%B9%A0/%E6%95%B0%E6%8D%AE%E4%B8%8D%E5%9D%87%E8%A1%A1%E5%A4%84%E7%90%86/%E6%A0%B7%E4%BE%8B.ipynb#X16sZmlsZQ%3D%3D?line=1'>2</a>\u001b[0m \u001b[39m\"\"\"Plot the decision function of the classifier and the original data\"\"\"\u001b[39;00m\n\u001b[0;32m      <a href='vscode-notebook-cell:/d%3A/cschw/%E6%9C%BA%E5%99%A8%E5%AD%A6%E4%B9%A0/%E6%95%B0%E6%8D%AE%E4%B8%8D%E5%9D%87%E8%A1%A1%E5%A4%84%E7%90%86/%E6%A0%B7%E4%BE%8B.ipynb#X16sZmlsZQ%3D%3D?line=2'>3</a>\u001b[0m plot_step \u001b[39m=\u001b[39m \u001b[39m0.02\u001b[39m\n\u001b[1;32m----> <a href='vscode-notebook-cell:/d%3A/cschw/%E6%9C%BA%E5%99%A8%E5%AD%A6%E4%B9%A0/%E6%95%B0%E6%8D%AE%E4%B8%8D%E5%9D%87%E8%A1%A1%E5%A4%84%E7%90%86/%E6%A0%B7%E4%BE%8B.ipynb#X16sZmlsZQ%3D%3D?line=3'>4</a>\u001b[0m x_min, x_max \u001b[39m=\u001b[39m X[:, \u001b[39m0\u001b[39;49m]\u001b[39m.\u001b[39mmin() \u001b[39m-\u001b[39m \u001b[39m1\u001b[39m, X[:, \u001b[39m0\u001b[39m]\u001b[39m.\u001b[39mmax() \u001b[39m+\u001b[39m \u001b[39m1\u001b[39m\n\u001b[0;32m      <a href='vscode-notebook-cell:/d%3A/cschw/%E6%9C%BA%E5%99%A8%E5%AD%A6%E4%B9%A0/%E6%95%B0%E6%8D%AE%E4%B8%8D%E5%9D%87%E8%A1%A1%E5%A4%84%E7%90%86/%E6%A0%B7%E4%BE%8B.ipynb#X16sZmlsZQ%3D%3D?line=4'>5</a>\u001b[0m y_min, y_max \u001b[39m=\u001b[39m X[:, \u001b[39m1\u001b[39m]\u001b[39m.\u001b[39mmin() \u001b[39m-\u001b[39m \u001b[39m1\u001b[39m, X[:, \u001b[39m1\u001b[39m]\u001b[39m.\u001b[39mmax() \u001b[39m+\u001b[39m \u001b[39m1\u001b[39m\n\u001b[0;32m      <a href='vscode-notebook-cell:/d%3A/cschw/%E6%9C%BA%E5%99%A8%E5%AD%A6%E4%B9%A0/%E6%95%B0%E6%8D%AE%E4%B8%8D%E5%9D%87%E8%A1%A1%E5%A4%84%E7%90%86/%E6%A0%B7%E4%BE%8B.ipynb#X16sZmlsZQ%3D%3D?line=5'>6</a>\u001b[0m xx, yy \u001b[39m=\u001b[39m np\u001b[39m.\u001b[39mmeshgrid(\n\u001b[0;32m      <a href='vscode-notebook-cell:/d%3A/cschw/%E6%9C%BA%E5%99%A8%E5%AD%A6%E4%B9%A0/%E6%95%B0%E6%8D%AE%E4%B8%8D%E5%9D%87%E8%A1%A1%E5%A4%84%E7%90%86/%E6%A0%B7%E4%BE%8B.ipynb#X16sZmlsZQ%3D%3D?line=6'>7</a>\u001b[0m     np\u001b[39m.\u001b[39marange(x_min, x_max, plot_step), np\u001b[39m.\u001b[39marange(y_min, y_max, plot_step)\n\u001b[0;32m      <a href='vscode-notebook-cell:/d%3A/cschw/%E6%9C%BA%E5%99%A8%E5%AD%A6%E4%B9%A0/%E6%95%B0%E6%8D%AE%E4%B8%8D%E5%9D%87%E8%A1%A1%E5%A4%84%E7%90%86/%E6%A0%B7%E4%BE%8B.ipynb#X16sZmlsZQ%3D%3D?line=7'>8</a>\u001b[0m )\n",
      "File \u001b[1;32m~\\AppData\\Local\\Packages\\PythonSoftwareFoundation.Python.3.10_qbz5n2kfra8p0\\LocalCache\\local-packages\\Python310\\site-packages\\pandas\\core\\frame.py:3805\u001b[0m, in \u001b[0;36mDataFrame.__getitem__\u001b[1;34m(self, key)\u001b[0m\n\u001b[0;32m   3803\u001b[0m \u001b[39mif\u001b[39;00m \u001b[39mself\u001b[39m\u001b[39m.\u001b[39mcolumns\u001b[39m.\u001b[39mnlevels \u001b[39m>\u001b[39m \u001b[39m1\u001b[39m:\n\u001b[0;32m   3804\u001b[0m     \u001b[39mreturn\u001b[39;00m \u001b[39mself\u001b[39m\u001b[39m.\u001b[39m_getitem_multilevel(key)\n\u001b[1;32m-> 3805\u001b[0m indexer \u001b[39m=\u001b[39m \u001b[39mself\u001b[39;49m\u001b[39m.\u001b[39;49mcolumns\u001b[39m.\u001b[39;49mget_loc(key)\n\u001b[0;32m   3806\u001b[0m \u001b[39mif\u001b[39;00m is_integer(indexer):\n\u001b[0;32m   3807\u001b[0m     indexer \u001b[39m=\u001b[39m [indexer]\n",
      "File \u001b[1;32m~\\AppData\\Local\\Packages\\PythonSoftwareFoundation.Python.3.10_qbz5n2kfra8p0\\LocalCache\\local-packages\\Python310\\site-packages\\pandas\\core\\indexes\\base.py:3807\u001b[0m, in \u001b[0;36mIndex.get_loc\u001b[1;34m(self, key, method, tolerance)\u001b[0m\n\u001b[0;32m   3802\u001b[0m         \u001b[39mraise\u001b[39;00m \u001b[39mKeyError\u001b[39;00m(key) \u001b[39mfrom\u001b[39;00m \u001b[39merr\u001b[39;00m\n\u001b[0;32m   3803\u001b[0m     \u001b[39mexcept\u001b[39;00m \u001b[39mTypeError\u001b[39;00m:\n\u001b[0;32m   3804\u001b[0m         \u001b[39m# If we have a listlike key, _check_indexing_error will raise\u001b[39;00m\n\u001b[0;32m   3805\u001b[0m         \u001b[39m#  InvalidIndexError. Otherwise we fall through and re-raise\u001b[39;00m\n\u001b[0;32m   3806\u001b[0m         \u001b[39m#  the TypeError.\u001b[39;00m\n\u001b[1;32m-> 3807\u001b[0m         \u001b[39mself\u001b[39;49m\u001b[39m.\u001b[39;49m_check_indexing_error(key)\n\u001b[0;32m   3808\u001b[0m         \u001b[39mraise\u001b[39;00m\n\u001b[0;32m   3810\u001b[0m \u001b[39m# GH#42269\u001b[39;00m\n",
      "File \u001b[1;32m~\\AppData\\Local\\Packages\\PythonSoftwareFoundation.Python.3.10_qbz5n2kfra8p0\\LocalCache\\local-packages\\Python310\\site-packages\\pandas\\core\\indexes\\base.py:5963\u001b[0m, in \u001b[0;36mIndex._check_indexing_error\u001b[1;34m(self, key)\u001b[0m\n\u001b[0;32m   5959\u001b[0m \u001b[39mdef\u001b[39;00m \u001b[39m_check_indexing_error\u001b[39m(\u001b[39mself\u001b[39m, key):\n\u001b[0;32m   5960\u001b[0m     \u001b[39mif\u001b[39;00m \u001b[39mnot\u001b[39;00m is_scalar(key):\n\u001b[0;32m   5961\u001b[0m         \u001b[39m# if key is not a scalar, directly raise an error (the code below\u001b[39;00m\n\u001b[0;32m   5962\u001b[0m         \u001b[39m# would convert to numpy arrays and raise later any way) - GH29926\u001b[39;00m\n\u001b[1;32m-> 5963\u001b[0m         \u001b[39mraise\u001b[39;00m InvalidIndexError(key)\n",
      "\u001b[1;31mInvalidIndexError\u001b[0m: (slice(None, None, None), 0)"
     ]
    },
    {
     "data": {
      "image/png": "[encoded data removed]",
      "text/plain": [
       "<Figure size 1500x2500 with 6 Axes>"
      ]
     },
     "metadata": {},
     "output_type": "display_data"
    }
   ],
   "source": [
    "\n",
    "\n",
    "samplers = [SMOTE(random_state=0), SMOTEENN(random_state=0), SMOTETomek(random_state=0)]\n",
    "fig, axs = plt.subplots(3, 2, figsize=(15, 25))\n",
    "\n",
    "for ax, sampler in zip(axs, samplers):\n",
    "    clf = make_pipeline(sampler, LinearSVC()).fit(x_train, y_train)\n",
    "    plot_decision_function(x_train, y_train, clf, ax[0])\n",
    "    plot_resampling(x_train, y_train, sampler, ax[1])\n",
    "\n",
    "\n",
    "sm = SMOTE(random_state=42,k_neighbors=5)#random为随机种子，k——neighbors为找k个最近的同类\n",
    "\n",
    "x_res, y_res = sm.fit_resample(x_train, y_train,)\n",
    "print('Resampled dataset shape %s' % Counter(y_res))\n"
   ]
  },
  {
   "cell_type": "code",
   "execution_count": 142,
   "metadata": {},
   "outputs": [
    {
     "ename": "KeyboardInterrupt",
     "evalue": "",
     "output_type": "error",
     "traceback": [
      "\u001b[1;31m---------------------------------------------------------------------------\u001b[0m",
      "\u001b[1;31mKeyboardInterrupt\u001b[0m                         Traceback (most recent call last)",
      "\u001b[1;32md:\\cschw\\机器学习\\数据不均衡处理\\样例.ipynb 单元格 10\u001b[0m in \u001b[0;36m8\n\u001b[0;32m      <a href='vscode-notebook-cell:/d%3A/cschw/%E6%9C%BA%E5%99%A8%E5%AD%A6%E4%B9%A0/%E6%95%B0%E6%8D%AE%E4%B8%8D%E5%9D%87%E8%A1%A1%E5%A4%84%E7%90%86/%E6%A0%B7%E4%BE%8B.ipynb#X21sZmlsZQ%3D%3D?line=3'>4</a>\u001b[0m mod3\u001b[39m=\u001b[39mRandomForestClassifier(n_estimators\u001b[39m=\u001b[39m\u001b[39m70\u001b[39m,max_features\u001b[39m=\u001b[39m\u001b[39m'\u001b[39m\u001b[39msqrt\u001b[39m\u001b[39m'\u001b[39m)\n\u001b[0;32m      <a href='vscode-notebook-cell:/d%3A/cschw/%E6%9C%BA%E5%99%A8%E5%AD%A6%E4%B9%A0/%E6%95%B0%E6%8D%AE%E4%B8%8D%E5%9D%87%E8%A1%A1%E5%A4%84%E7%90%86/%E6%A0%B7%E4%BE%8B.ipynb#X21sZmlsZQ%3D%3D?line=6'>7</a>\u001b[0m mod1\u001b[39m.\u001b[39mfit(x_res,y_res)\n\u001b[1;32m----> <a href='vscode-notebook-cell:/d%3A/cschw/%E6%9C%BA%E5%99%A8%E5%AD%A6%E4%B9%A0/%E6%95%B0%E6%8D%AE%E4%B8%8D%E5%9D%87%E8%A1%A1%E5%A4%84%E7%90%86/%E6%A0%B7%E4%BE%8B.ipynb#X21sZmlsZQ%3D%3D?line=7'>8</a>\u001b[0m mod2\u001b[39m.\u001b[39;49mfit(x_res,y_res)\n\u001b[0;32m      <a href='vscode-notebook-cell:/d%3A/cschw/%E6%9C%BA%E5%99%A8%E5%AD%A6%E4%B9%A0/%E6%95%B0%E6%8D%AE%E4%B8%8D%E5%9D%87%E8%A1%A1%E5%A4%84%E7%90%86/%E6%A0%B7%E4%BE%8B.ipynb#X21sZmlsZQ%3D%3D?line=8'>9</a>\u001b[0m mod3\u001b[39m.\u001b[39mfit(x_res,y_res)\n\u001b[0;32m     <a href='vscode-notebook-cell:/d%3A/cschw/%E6%9C%BA%E5%99%A8%E5%AD%A6%E4%B9%A0/%E6%95%B0%E6%8D%AE%E4%B8%8D%E5%9D%87%E8%A1%A1%E5%A4%84%E7%90%86/%E6%A0%B7%E4%BE%8B.ipynb#X21sZmlsZQ%3D%3D?line=9'>10</a>\u001b[0m y1\u001b[39m=\u001b[39mmod1\u001b[39m.\u001b[39mpredict(x_test)\n",
      "File \u001b[1;32m~\\AppData\\Local\\Packages\\PythonSoftwareFoundation.Python.3.10_qbz5n2kfra8p0\\LocalCache\\local-packages\\Python310\\site-packages\\sklearn\\ensemble\\_weight_boosting.py:506\u001b[0m, in \u001b[0;36mAdaBoostClassifier.fit\u001b[1;34m(self, X, y, sample_weight)\u001b[0m\n\u001b[0;32m    500\u001b[0m     \u001b[39mraise\u001b[39;00m \u001b[39mValueError\u001b[39;00m(\n\u001b[0;32m    501\u001b[0m         \u001b[39m\"\u001b[39m\u001b[39mAlgorithm must be \u001b[39m\u001b[39m'\u001b[39m\u001b[39mSAMME\u001b[39m\u001b[39m'\u001b[39m\u001b[39m or \u001b[39m\u001b[39m'\u001b[39m\u001b[39mSAMME.R\u001b[39m\u001b[39m'\u001b[39m\u001b[39m.\u001b[39m\u001b[39m\"\u001b[39m\n\u001b[0;32m    502\u001b[0m         \u001b[39mf\u001b[39m\u001b[39m\"\u001b[39m\u001b[39m Got \u001b[39m\u001b[39m{\u001b[39;00m\u001b[39mself\u001b[39m\u001b[39m.\u001b[39malgorithm\u001b[39m!r}\u001b[39;00m\u001b[39m instead.\u001b[39m\u001b[39m\"\u001b[39m\n\u001b[0;32m    503\u001b[0m     )\n\u001b[0;32m    505\u001b[0m \u001b[39m# Fit\u001b[39;00m\n\u001b[1;32m--> 506\u001b[0m \u001b[39mreturn\u001b[39;00m \u001b[39msuper\u001b[39;49m()\u001b[39m.\u001b[39;49mfit(X, y, sample_weight)\n",
      "File \u001b[1;32m~\\AppData\\Local\\Packages\\PythonSoftwareFoundation.Python.3.10_qbz5n2kfra8p0\\LocalCache\\local-packages\\Python310\\site-packages\\sklearn\\ensemble\\_weight_boosting.py:160\u001b[0m, in \u001b[0;36mBaseWeightBoosting.fit\u001b[1;34m(self, X, y, sample_weight)\u001b[0m\n\u001b[0;32m    156\u001b[0m random_state \u001b[39m=\u001b[39m check_random_state(\u001b[39mself\u001b[39m\u001b[39m.\u001b[39mrandom_state)\n\u001b[0;32m    158\u001b[0m \u001b[39mfor\u001b[39;00m iboost \u001b[39min\u001b[39;00m \u001b[39mrange\u001b[39m(\u001b[39mself\u001b[39m\u001b[39m.\u001b[39mn_estimators):\n\u001b[0;32m    159\u001b[0m     \u001b[39m# Boosting step\u001b[39;00m\n\u001b[1;32m--> 160\u001b[0m     sample_weight, estimator_weight, estimator_error \u001b[39m=\u001b[39m \u001b[39mself\u001b[39;49m\u001b[39m.\u001b[39;49m_boost(\n\u001b[0;32m    161\u001b[0m         iboost, X, y, sample_weight, random_state\n\u001b[0;32m    162\u001b[0m     )\n\u001b[0;32m    164\u001b[0m     \u001b[39m# Early termination\u001b[39;00m\n\u001b[0;32m    165\u001b[0m     \u001b[39mif\u001b[39;00m sample_weight \u001b[39mis\u001b[39;00m \u001b[39mNone\u001b[39;00m:\n",
      "File \u001b[1;32m~\\AppData\\Local\\Packages\\PythonSoftwareFoundation.Python.3.10_qbz5n2kfra8p0\\LocalCache\\local-packages\\Python310\\site-packages\\sklearn\\ensemble\\_weight_boosting.py:568\u001b[0m, in \u001b[0;36mAdaBoostClassifier._boost\u001b[1;34m(self, iboost, X, y, sample_weight, random_state)\u001b[0m\n\u001b[0;32m    529\u001b[0m \u001b[39m\"\"\"Implement a single boost.\u001b[39;00m\n\u001b[0;32m    530\u001b[0m \n\u001b[0;32m    531\u001b[0m \u001b[39mPerform a single boost according to the real multi-class SAMME.R\u001b[39;00m\n\u001b[1;32m   (...)\u001b[0m\n\u001b[0;32m    565\u001b[0m \u001b[39m    If None then boosting has terminated early.\u001b[39;00m\n\u001b[0;32m    566\u001b[0m \u001b[39m\"\"\"\u001b[39;00m\n\u001b[0;32m    567\u001b[0m \u001b[39mif\u001b[39;00m \u001b[39mself\u001b[39m\u001b[39m.\u001b[39malgorithm \u001b[39m==\u001b[39m \u001b[39m\"\u001b[39m\u001b[39mSAMME.R\u001b[39m\u001b[39m\"\u001b[39m:\n\u001b[1;32m--> 568\u001b[0m     \u001b[39mreturn\u001b[39;00m \u001b[39mself\u001b[39;49m\u001b[39m.\u001b[39;49m_boost_real(iboost, X, y, sample_weight, random_state)\n\u001b[0;32m    570\u001b[0m \u001b[39melse\u001b[39;00m:  \u001b[39m# elif self.algorithm == \"SAMME\":\u001b[39;00m\n\u001b[0;32m    571\u001b[0m     \u001b[39mreturn\u001b[39;00m \u001b[39mself\u001b[39m\u001b[39m.\u001b[39m_boost_discrete(iboost, X, y, sample_weight, random_state)\n",
      "File \u001b[1;32m~\\AppData\\Local\\Packages\\PythonSoftwareFoundation.Python.3.10_qbz5n2kfra8p0\\LocalCache\\local-packages\\Python310\\site-packages\\sklearn\\ensemble\\_weight_boosting.py:577\u001b[0m, in \u001b[0;36mAdaBoostClassifier._boost_real\u001b[1;34m(self, iboost, X, y, sample_weight, random_state)\u001b[0m\n\u001b[0;32m    574\u001b[0m \u001b[39m\"\"\"Implement a single boost using the SAMME.R real algorithm.\"\"\"\u001b[39;00m\n\u001b[0;32m    575\u001b[0m estimator \u001b[39m=\u001b[39m \u001b[39mself\u001b[39m\u001b[39m.\u001b[39m_make_estimator(random_state\u001b[39m=\u001b[39mrandom_state)\n\u001b[1;32m--> 577\u001b[0m estimator\u001b[39m.\u001b[39;49mfit(X, y, sample_weight\u001b[39m=\u001b[39;49msample_weight)\n\u001b[0;32m    579\u001b[0m y_predict_proba \u001b[39m=\u001b[39m estimator\u001b[39m.\u001b[39mpredict_proba(X)\n\u001b[0;32m    581\u001b[0m \u001b[39mif\u001b[39;00m iboost \u001b[39m==\u001b[39m \u001b[39m0\u001b[39m:\n",
      "File \u001b[1;32m~\\AppData\\Local\\Packages\\PythonSoftwareFoundation.Python.3.10_qbz5n2kfra8p0\\LocalCache\\local-packages\\Python310\\site-packages\\sklearn\\tree\\_classes.py:969\u001b[0m, in \u001b[0;36mDecisionTreeClassifier.fit\u001b[1;34m(self, X, y, sample_weight, check_input)\u001b[0m\n\u001b[0;32m    939\u001b[0m \u001b[39mdef\u001b[39;00m \u001b[39mfit\u001b[39m(\u001b[39mself\u001b[39m, X, y, sample_weight\u001b[39m=\u001b[39m\u001b[39mNone\u001b[39;00m, check_input\u001b[39m=\u001b[39m\u001b[39mTrue\u001b[39;00m):\n\u001b[0;32m    940\u001b[0m     \u001b[39m\"\"\"Build a decision tree classifier from the training set (X, y).\u001b[39;00m\n\u001b[0;32m    941\u001b[0m \n\u001b[0;32m    942\u001b[0m \u001b[39m    Parameters\u001b[39;00m\n\u001b[1;32m   (...)\u001b[0m\n\u001b[0;32m    966\u001b[0m \u001b[39m        Fitted estimator.\u001b[39;00m\n\u001b[0;32m    967\u001b[0m \u001b[39m    \"\"\"\u001b[39;00m\n\u001b[1;32m--> 969\u001b[0m     \u001b[39msuper\u001b[39;49m()\u001b[39m.\u001b[39;49mfit(\n\u001b[0;32m    970\u001b[0m         X,\n\u001b[0;32m    971\u001b[0m         y,\n\u001b[0;32m    972\u001b[0m         sample_weight\u001b[39m=\u001b[39;49msample_weight,\n\u001b[0;32m    973\u001b[0m         check_input\u001b[39m=\u001b[39;49mcheck_input,\n\u001b[0;32m    974\u001b[0m     )\n\u001b[0;32m    975\u001b[0m     \u001b[39mreturn\u001b[39;00m \u001b[39mself\u001b[39m\n",
      "File \u001b[1;32m~\\AppData\\Local\\Packages\\PythonSoftwareFoundation.Python.3.10_qbz5n2kfra8p0\\LocalCache\\local-packages\\Python310\\site-packages\\sklearn\\tree\\_classes.py:458\u001b[0m, in \u001b[0;36mBaseDecisionTree.fit\u001b[1;34m(self, X, y, sample_weight, check_input)\u001b[0m\n\u001b[0;32m    447\u001b[0m \u001b[39melse\u001b[39;00m:\n\u001b[0;32m    448\u001b[0m     builder \u001b[39m=\u001b[39m BestFirstTreeBuilder(\n\u001b[0;32m    449\u001b[0m         splitter,\n\u001b[0;32m    450\u001b[0m         min_samples_split,\n\u001b[1;32m   (...)\u001b[0m\n\u001b[0;32m    455\u001b[0m         \u001b[39mself\u001b[39m\u001b[39m.\u001b[39mmin_impurity_decrease,\n\u001b[0;32m    456\u001b[0m     )\n\u001b[1;32m--> 458\u001b[0m builder\u001b[39m.\u001b[39;49mbuild(\u001b[39mself\u001b[39;49m\u001b[39m.\u001b[39;49mtree_, X, y, sample_weight)\n\u001b[0;32m    460\u001b[0m \u001b[39mif\u001b[39;00m \u001b[39mself\u001b[39m\u001b[39m.\u001b[39mn_outputs_ \u001b[39m==\u001b[39m \u001b[39m1\u001b[39m \u001b[39mand\u001b[39;00m is_classifier(\u001b[39mself\u001b[39m):\n\u001b[0;32m    461\u001b[0m     \u001b[39mself\u001b[39m\u001b[39m.\u001b[39mn_classes_ \u001b[39m=\u001b[39m \u001b[39mself\u001b[39m\u001b[39m.\u001b[39mn_classes_[\u001b[39m0\u001b[39m]\n",
      "\u001b[1;31mKeyboardInterrupt\u001b[0m: "
     ]
    }
   ],
   "source": [
    "base=DecisionTreeClassifier(max_depth=10)\n",
    "mod1=AdaBoostClassifier(base,n_estimators=300,algorithm=\"SAMME\")\n",
    "mod2=AdaBoostClassifier(base,n_estimators=300,algorithm=\"SAMME.R\")\n",
    "mod3=RandomForestClassifier(n_estimators=70,max_features='sqrt')\n",
    "\n",
    "\n",
    "mod1.fit(x_res,y_res)\n",
    "mod2.fit(x_res,y_res)\n",
    "mod3.fit(x_res,y_res)\n",
    "y1=mod1.predict(x_test)\n",
    "y2=mod2.predict(x_test)\n",
    "y3=mod3.predict(x_test)\n",
    "print(precision_score(y1,y_test,average='micro'))\n",
    "print(precision_score(y2,y_test,average='micro'))\n",
    "print(precision_score(y3,y_test,average='micro'))"
   ]
  },
  {
   "attachments": {},
   "cell_type": "markdown",
   "metadata": {},
   "source": [
    "Borderline SMOTE"
   ]
  },
  {
   "cell_type": "code",
   "execution_count": null,
   "metadata": {},
   "outputs": [],
   "source": [
    "from imblearn.over_sampling import BorderlineSMOTE\n",
    "\n",
    "sm = BorderlineSMOTE(random_state=42,kind=\"borderline-1\")\n",
    "x_res, y_res = sm.fit_resample(x_train, y_train)\n",
    "print('Resampled dataset shape %s' % Counter(y_res))"
   ]
  },
  {
   "cell_type": "code",
   "execution_count": null,
   "metadata": {},
   "outputs": [],
   "source": [
    "base=DecisionTreeClassifier(max_depth=10)\n",
    "mod1=AdaBoostClassifier(base,n_estimators=300,algorithm=\"SAMME\")\n",
    "mod2=AdaBoostClassifier(base,n_estimators=300,algorithm=\"SAMME.R\")\n",
    "mod3=RandomForestClassifier(n_estimators=70,max_features='sqrt')\n",
    "\n",
    "\n",
    "mod1.fit(x_res,y_res)\n",
    "mod2.fit(x_res,y_res)\n",
    "mod3.fit(x_res,y_res)\n",
    "y1=mod1.predict(x_test)\n",
    "y2=mod2.predict(x_test)\n",
    "y3=mod3.predict(x_test)\n",
    "print(precision_score(y1,y_test,average='micro'))\n",
    "print(precision_score(y2,y_test,average='micro'))\n",
    "print(precision_score(y3,y_test,average='micro'))"
   ]
  },
  {
   "cell_type": "code",
   "execution_count": null,
   "metadata": {},
   "outputs": [],
   "source": []
  }
 ],
 "metadata": {
  "kernelspec": {
   "display_name": "Python 3",
   "language": "python",
   "name": "python3"
  },
  "language_info": {
   "codemirror_mode": {
    "name": "ipython",
    "version": 3
   },
   "file_extension": ".py",
   "mimetype": "text/x-python",
   "name": "python",
   "nbconvert_exporter": "python",
   "pygments_lexer": "ipython3",
   "version": "3.10.11"
  },
  "orig_nbformat": 4
 },
 "nbformat": 4,
 "nbformat_minor": 2
}
